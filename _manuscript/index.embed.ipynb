{
 "cells": [
  {
   "cell_type": "markdown",
   "metadata": {},
   "source": [
    "# Currency Exchange Rates with Bayesian\n",
    "\n",
    "Priscilla Chen (Calvin University)\n",
    "\n",
    "## Main Question:\n",
    "\n",
    "How do Differentials in Interest rates, Inflation, and Country’s economical Growth impact the currency exchange rate between US dollars and Chinese Yuan?\n",
    "\n",
    "How confidently can we predict currency exchange rate from Differentials in Interest rates, Inflation, and Country’s Economical Growth?\n",
    "\n",
    "*I would like to do a prediction model if possible, but if not, I’ll be satisfied with an inference model as well.*\n",
    "\n",
    "## Data Preperation"
   ],
   "id": "3eb023e0-bdc1-4f2b-859f-959a9621ed00"
  },
  {
   "cell_type": "code",
   "execution_count": null,
   "metadata": {},
   "outputs": [
    {
     "output_type": "stream",
     "name": "stderr",
     "text": [
      "Warning: package 'dagitty' was built under R version 4.4.3"
     ]
    },
    {
     "output_type": "stream",
     "name": "stderr",
     "text": [
      "Warning: package 'ggdag' was built under R version 4.4.3"
     ]
    },
    {
     "output_type": "stream",
     "name": "stderr",
     "text": [
      "\n",
      "Attaching package: 'ggdag'"
     ]
    },
    {
     "output_type": "stream",
     "name": "stderr",
     "text": [
      "The following object is masked from 'package:stats':\n",
      "\n",
      "    filter"
     ]
    },
    {
     "output_type": "stream",
     "name": "stderr",
     "text": [
      "Loading required package: dplyr"
     ]
    },
    {
     "output_type": "stream",
     "name": "stderr",
     "text": [
      "Warning: package 'dplyr' was built under R version 4.4.3"
     ]
    },
    {
     "output_type": "stream",
     "name": "stderr",
     "text": [
      "\n",
      "Attaching package: 'dplyr'"
     ]
    },
    {
     "output_type": "stream",
     "name": "stderr",
     "text": [
      "The following objects are masked from 'package:stats':\n",
      "\n",
      "    filter, lag"
     ]
    },
    {
     "output_type": "stream",
     "name": "stderr",
     "text": [
      "The following objects are masked from 'package:base':\n",
      "\n",
      "    intersect, setdiff, setequal, union"
     ]
    },
    {
     "output_type": "stream",
     "name": "stderr",
     "text": [
      "Loading required package: ggplot2"
     ]
    },
    {
     "output_type": "stream",
     "name": "stderr",
     "text": [
      "Warning: package 'ggplot2' was built under R version 4.4.3"
     ]
    },
    {
     "output_type": "stream",
     "name": "stderr",
     "text": [
      "Loading required package: ggformula"
     ]
    },
    {
     "output_type": "stream",
     "name": "stderr",
     "text": [
      "Warning: package 'ggformula' was built under R version 4.4.3"
     ]
    },
    {
     "output_type": "stream",
     "name": "stderr",
     "text": [
      "Loading required package: scales"
     ]
    },
    {
     "output_type": "stream",
     "name": "stderr",
     "text": [
      "Warning: package 'scales' was built under R version 4.4.3"
     ]
    },
    {
     "output_type": "stream",
     "name": "stderr",
     "text": [
      "Loading required package: ggridges"
     ]
    },
    {
     "output_type": "stream",
     "name": "stderr",
     "text": [
      "Warning: package 'ggridges' was built under R version 4.4.3"
     ]
    },
    {
     "output_type": "stream",
     "name": "stderr",
     "text": [
      "\n",
      "New to ggformula?  Try the tutorials: \n",
      "    learnr::run_tutorial(\"introduction\", package = \"ggformula\")\n",
      "    learnr::run_tutorial(\"refining\", package = \"ggformula\")"
     ]
    },
    {
     "output_type": "stream",
     "name": "stderr",
     "text": [
      "Loading required package: bayesplot"
     ]
    },
    {
     "output_type": "stream",
     "name": "stderr",
     "text": [
      "Warning: package 'bayesplot' was built under R version 4.4.3"
     ]
    },
    {
     "output_type": "stream",
     "name": "stderr",
     "text": [
      "This is bayesplot version 1.11.1"
     ]
    },
    {
     "output_type": "stream",
     "name": "stderr",
     "text": [
      "- Online documentation and vignettes at mc-stan.org/bayesplot"
     ]
    },
    {
     "output_type": "stream",
     "name": "stderr",
     "text": [
      "- bayesplot theme set to bayesplot::theme_default()"
     ]
    },
    {
     "output_type": "stream",
     "name": "stderr",
     "text": [
      "   * Does _not_ affect other ggplot2 plots"
     ]
    },
    {
     "output_type": "stream",
     "name": "stderr",
     "text": [
      "   * See ?bayesplot_theme_set for details on theme setting"
     ]
    },
    {
     "output_type": "stream",
     "name": "stderr",
     "text": [
      "\n",
      "Attaching package: 'CalvinBayes'"
     ]
    },
    {
     "output_type": "stream",
     "name": "stderr",
     "text": [
      "The following object is masked from 'package:bayesplot':\n",
      "\n",
      "    rhat"
     ]
    },
    {
     "output_type": "stream",
     "name": "stderr",
     "text": [
      "The following object is masked from 'package:datasets':\n",
      "\n",
      "    HairEyeColor"
     ]
    },
    {
     "output_type": "stream",
     "name": "stderr",
     "text": [
      "Warning: package 'mosaic' was built under R version 4.4.3"
     ]
    },
    {
     "output_type": "stream",
     "name": "stderr",
     "text": [
      "Registered S3 method overwritten by 'mosaic':\n",
      "  method                           from   \n",
      "  fortify.SpatialPolygonsDataFrame ggplot2"
     ]
    },
    {
     "output_type": "stream",
     "name": "stderr",
     "text": [
      "\n",
      "The 'mosaic' package masks several functions from core packages in order to add \n",
      "additional features.  The original behavior of these functions should not be affected by this."
     ]
    },
    {
     "output_type": "stream",
     "name": "stderr",
     "text": [
      "\n",
      "Attaching package: 'mosaic'"
     ]
    },
    {
     "output_type": "stream",
     "name": "stderr",
     "text": [
      "The following object is masked from 'package:Matrix':\n",
      "\n",
      "    mean"
     ]
    },
    {
     "output_type": "stream",
     "name": "stderr",
     "text": [
      "The following object is masked from 'package:scales':\n",
      "\n",
      "    rescale"
     ]
    },
    {
     "output_type": "stream",
     "name": "stderr",
     "text": [
      "The following object is masked from 'package:ggplot2':\n",
      "\n",
      "    stat"
     ]
    },
    {
     "output_type": "stream",
     "name": "stderr",
     "text": [
      "The following objects are masked from 'package:dplyr':\n",
      "\n",
      "    count, do, tally"
     ]
    },
    {
     "output_type": "stream",
     "name": "stderr",
     "text": [
      "The following objects are masked from 'package:stats':\n",
      "\n",
      "    binom.test, cor, cor.test, cov, fivenum, IQR, median, prop.test,\n",
      "    quantile, sd, t.test, var"
     ]
    },
    {
     "output_type": "stream",
     "name": "stderr",
     "text": [
      "The following objects are masked from 'package:base':\n",
      "\n",
      "    max, mean, min, prod, range, sample, sum"
     ]
    },
    {
     "output_type": "stream",
     "name": "stderr",
     "text": [
      "Warning: package 'tidyverse' was built under R version 4.4.3"
     ]
    },
    {
     "output_type": "stream",
     "name": "stderr",
     "text": [
      "Warning: package 'tibble' was built under R version 4.4.3"
     ]
    },
    {
     "output_type": "stream",
     "name": "stderr",
     "text": [
      "Warning: package 'tidyr' was built under R version 4.4.3"
     ]
    },
    {
     "output_type": "stream",
     "name": "stderr",
     "text": [
      "Warning: package 'readr' was built under R version 4.4.3"
     ]
    },
    {
     "output_type": "stream",
     "name": "stderr",
     "text": [
      "Warning: package 'purrr' was built under R version 4.4.3"
     ]
    },
    {
     "output_type": "stream",
     "name": "stderr",
     "text": [
      "Warning: package 'stringr' was built under R version 4.4.3"
     ]
    },
    {
     "output_type": "stream",
     "name": "stderr",
     "text": [
      "Warning: package 'forcats' was built under R version 4.4.3"
     ]
    },
    {
     "output_type": "stream",
     "name": "stderr",
     "text": [
      "Warning: package 'lubridate' was built under R version 4.4.3"
     ]
    },
    {
     "output_type": "stream",
     "name": "stderr",
     "text": [
      "── Attaching core tidyverse packages ──────────────────────── tidyverse 2.0.0 ──\n",
      "✔ forcats   1.0.0     ✔ stringr   1.5.1\n",
      "✔ lubridate 1.9.4     ✔ tibble    3.2.1\n",
      "✔ purrr     1.0.4     ✔ tidyr     1.3.1\n",
      "✔ readr     2.1.5     "
     ]
    },
    {
     "output_type": "stream",
     "name": "stderr",
     "text": [
      "── Conflicts ────────────────────────────────────────── tidyverse_conflicts() ──\n",
      "✖ readr::col_factor() masks scales::col_factor()\n",
      "✖ mosaic::count()     masks dplyr::count()\n",
      "✖ purrr::cross()      masks mosaic::cross()\n",
      "✖ purrr::discard()    masks scales::discard()\n",
      "✖ mosaic::do()        masks dplyr::do()\n",
      "✖ tidyr::expand()     masks Matrix::expand()\n",
      "✖ dplyr::filter()     masks ggdag::filter(), stats::filter()\n",
      "✖ dplyr::lag()        masks stats::lag()\n",
      "✖ tidyr::pack()       masks Matrix::pack()\n",
      "✖ mosaic::stat()      masks ggplot2::stat()\n",
      "✖ mosaic::tally()     masks dplyr::tally()\n",
      "✖ tidyr::unpack()     masks Matrix::unpack()\n",
      "ℹ Use the conflicted package (<http://conflicted.r-lib.org/>) to force all conflicts to become errors"
     ]
    }
   ],
   "source": [
    "library(dagitty)"
   ],
   "id": "baade388-192d-4c90-b76e-11dbf0fad5d5"
  },
  {
   "cell_type": "markdown",
   "metadata": {},
   "source": [
    "Data file 1: Monthly Exchange Rate between US dollars and Chinese Yuan, extracted from [Federal Researve](https://www.federalreserve.gov/releases/h10/current/) (Data range from 1990-2 to 2025-2)"
   ],
   "id": "d0d082fa-a532-4792-a21a-a7ad11ccb2e1"
  },
  {
   "cell_type": "code",
   "execution_count": null,
   "metadata": {},
   "outputs": [],
   "source": [
    "Exchange_rate <- read.csv(\"C:/Users/prisc/OneDrive - Calvin University/2Spring/Stat343/Currency-Exchange-Rate-Project/datafiles/FRB_H10 (1).csv\", skip = 5)\n",
    "Exchange_rate <- Exchange_rate |>\n",
    "  mutate(Time.Period = paste0(Time.Period, \"-01\"))|>\n",
    "  rename(Exchange_rate = RXI_N.M.CH,\n",
    "         observation_date = Time.Period)"
   ],
   "id": "3cd40fb3-3614-43a9-9e04-8228c9442fd9"
  },
  {
   "cell_type": "markdown",
   "metadata": {},
   "source": [
    "Data File 2: Inflation: YEARLY Consumer Prices for USA from [Federal Reserve Bank of St. Louis](https://fred.stlouisfed.org/series/FPCPITOTLZGUSA). (Note this dataset only contain data till 2023)"
   ],
   "id": "9ebf74bd-e50e-49d2-88dc-985301b9a6b2"
  },
  {
   "cell_type": "code",
   "execution_count": null,
   "metadata": {},
   "outputs": [],
   "source": [
    "Inflation_US <- read.csv(\"C:/Users/prisc/OneDrive - Calvin University/2Spring/Stat343/Currency-Exchange-Rate-Project/datafiles/FPCPITOTLZGUSA.csv\")\n",
    "Inflation_US <- Inflation_US |>\n",
    "  rename(Inflation_US = FPCPITOTLZGUSA )"
   ],
   "id": "b1a29f23-24f1-46a3-b0bb-3e2aee9948d8"
  },
  {
   "cell_type": "markdown",
   "metadata": {},
   "source": [
    "Data File 3: Inflation: YEARLY Consumer Prices for China from [Federal Reserve Bank of St. Louis](https://fred.stlouisfed.org/series/FPCPITOTLZGCHN). (Note this dataset only contain data till 2023)"
   ],
   "id": "c396f4c1-e767-415c-a4f7-1a3c0e51405e"
  },
  {
   "cell_type": "code",
   "execution_count": null,
   "metadata": {},
   "outputs": [],
   "source": [
    "Inflation_CN <- read.csv(\"C:/Users/prisc/OneDrive - Calvin University/2Spring/Stat343/Currency-Exchange-Rate-Project/datafiles/FPCPITOTLZGCHN.csv\")\n",
    "Inflation_CN <- Inflation_CN |>\n",
    "  rename(Inflation_CN = FPCPITOTLZGCHN )"
   ],
   "id": "b8f1af0c-c15f-4e1e-81a8-2a633ef20cf1"
  },
  {
   "cell_type": "markdown",
   "metadata": {},
   "source": [
    "Data File 4: Monthly GDP Ratio to Trend for USA, downloaded from [Federal Reserve Bank of St. Louis](https://fred.stlouisfed.org/series/USALORSGPRTSTSAM). (Note this dataset only contain data till 2023-11-01)"
   ],
   "id": "817dba2c-7d81-4a4d-a3d5-ff287616f832"
  },
  {
   "cell_type": "code",
   "execution_count": null,
   "metadata": {},
   "outputs": [],
   "source": [
    "GDP_US <- read.csv(\"C:/Users/prisc/OneDrive - Calvin University/2Spring/Stat343/Currency-Exchange-Rate-Project/datafiles/USALORSGPNOSTSAM.csv\")\n",
    "GDP_US <- GDP_US |>\n",
    "  rename(GDP_US = USALORSGPNOSTSAM )"
   ],
   "id": "ba57a7e3-4cd3-40b6-9372-f8ffda1f99dd"
  },
  {
   "cell_type": "markdown",
   "metadata": {},
   "source": [
    "Data File 5: Monthly GDP Ratio to Trend for China, downloaded from [Federal Reserve Bank of St. Louis](https://fred.stlouisfed.org/series/CHNLORSGPRTSTSAM). (Note this dataset only contain data till 2024-02-01)"
   ],
   "id": "d6d0857c-e20b-4e0b-aac4-2f1a700af4a2"
  },
  {
   "cell_type": "code",
   "execution_count": null,
   "metadata": {},
   "outputs": [],
   "source": [
    "GDP_CHINA <- read.csv(\"C:/Users/prisc/OneDrive - Calvin University/2Spring/Stat343/Currency-Exchange-Rate-Project/datafiles/CHNLORSGPNOSTSAM.csv\")\n",
    "GDP_CHINA <- GDP_CHINA |>\n",
    "  rename(GDP_CN = CHNLORSGPNOSTSAM )"
   ],
   "id": "3bb5e838-c46c-4d13-b77e-f5024c09a20c"
  },
  {
   "cell_type": "markdown",
   "metadata": {},
   "source": [
    "Data file 6: Monthly US Interest Rate (Rates which Federal Reserve charge on banks for overnight borrow), downloaded from [Federal Reserve Bank of St. Louis](https://fred.stlouisfed.org/series/INTDSRUSM193N). (Note this dataset only contain data till 2021-08-01)"
   ],
   "id": "41af43c8-8305-4e74-8561-efd678bb79ad"
  },
  {
   "cell_type": "code",
   "execution_count": null,
   "metadata": {},
   "outputs": [],
   "source": [
    "Interest_US <- read.csv(\"C:/Users/prisc/OneDrive - Calvin University/2Spring/Stat343/Currency-Exchange-Rate-Project/datafiles/INTDSRUSM193N.csv\")\n",
    "Interest_US <- Interest_US |>\n",
    "  rename(Interest_US = INTDSRUSM193N)"
   ],
   "id": "c8ccdc27-89d3-493f-93a7-a66ca91e8421"
  },
  {
   "cell_type": "markdown",
   "metadata": {},
   "source": [
    "Data file 7: Monthly Chinese Interest Rate (Rates which Federal Reserve charge on banks for overnight borrow), downloaded from [Federal Reserve Bank of St. Louis](https://fred.stlouisfed.org/series/INTDSRCNM193N)"
   ],
   "id": "a4150e1e-f70f-4500-a809-9cae7e1e7fac"
  },
  {
   "cell_type": "code",
   "execution_count": null,
   "metadata": {},
   "outputs": [],
   "source": [
    "Interest_CN <- read.csv(\"C:/Users/prisc/OneDrive - Calvin University/2Spring/Stat343/Currency-Exchange-Rate-Project/datafiles/INTDSRCNM193N.csv\")\n",
    "Interest_CN <- Interest_CN |>\n",
    "  rename(Interest_CN = INTDSRCNM193N)"
   ],
   "id": "e99752bc-ccee-41a9-be53-31e32adc3062"
  },
  {
   "cell_type": "markdown",
   "metadata": {},
   "source": [
    "**Joined Data:**"
   ],
   "id": "087e6073-fd7a-4882-ac2d-b1a9d72d58dd"
  },
  {
   "cell_type": "code",
   "execution_count": null,
   "metadata": {},
   "outputs": [
    {
     "output_type": "stream",
     "name": "stdout",
     "text": [
      "Rows: 937\n",
      "Columns: 11\n",
      "$ observation_date   <chr> \"1990-01-01\", \"1990-02-01\", \"1990-03-01\", \"1990-04-…\n",
      "$ Exchange_rate      <dbl> 4.7339, 4.7339, 4.7339, 4.7339, 4.7339, 4.7339, 4.7…\n",
      "$ GDP_CN             <dbl> 96.86580, 96.60166, 96.44037, 96.36356, 96.35556, 9…\n",
      "$ GDP_US             <dbl> 101.34920, 101.37080, 101.36490, 101.31980, 101.227…\n",
      "$ Inflation_CN       <dbl> 3.052290, NA, NA, NA, NA, NA, NA, NA, NA, NA, NA, N…\n",
      "$ Inflation_US       <dbl> 5.397956, NA, NA, NA, NA, NA, NA, NA, NA, NA, NA, N…\n",
      "$ Interest_CN        <dbl> NA, NA, 9.00, 9.00, 9.00, 9.00, 9.00, 7.92, 7.92, 7…\n",
      "$ Interest_US        <dbl> 7.00, 7.00, 7.00, 7.00, 7.00, 7.00, 7.00, 7.00, 7.0…\n",
      "$ Dif_GPD            <dbl> -4.48340, -4.76914, -4.92453, -4.95624, -4.87174, -…\n",
      "$ Dif_Interest_Rate  <dbl> NA, NA, 2.00, 2.00, 2.00, 2.00, 2.00, 0.92, 0.92, 0…\n",
      "$ Dif_Inflation_Rate <dbl> -2.3456663, NA, NA, NA, NA, NA, NA, NA, NA, NA, NA,…"
     ]
    }
   ],
   "source": [
    "datasets <- list(Exchange_rate,GDP_CHINA,GDP_US, Inflation_CN, Inflation_US, Interest_CN, Interest_US)\n",
    "\n",
    "data <- reduce(datasets, full_join, by = \"observation_date\")\n",
    "\n",
    "data <- data|>\n",
    "  mutate(Dif_GPD = GDP_CN - GDP_US,\n",
    "         Dif_Interest_Rate = Interest_CN - Interest_US,\n",
    "         Dif_Inflation_Rate = Inflation_CN - Inflation_US)\n",
    "glimpse(data)"
   ],
   "id": "e7210e4e-2cc1-4d90-b66f-2ccda5d9a8d6"
  },
  {
   "cell_type": "markdown",
   "metadata": {},
   "source": [
    "*Alternatively, I want to also scale these variables (those starting with Dif), which I don’t know how to yet.*\n",
    "\n",
    "## Casual Diagram:\n",
    "\n",
    "[Economics Help](https://www.economicshelp.org/macroeconomics/exchangerate/factors-influencing/) listed 5 factors that would affect exchange rate: rate of growth, Interest rate, Inflation rate, Competitiveness, and Speculations. Since competitiveness and Speculations are hard to measure quantitatively, they are not included. Besides, rate of growth is measured by GDP ratio.\n",
    "\n",
    "*The code for Casual Diagram is producing error right not, I haven’t got to fixing it yet*"
   ],
   "id": "e88fbab1-9c9a-41b5-a07b-6a3db27c0a6b"
  },
  {
   "cell_type": "code",
   "execution_count": null,
   "metadata": {},
   "outputs": [],
   "source": [
    "# causal_diagram <- dagitty(\"dag{\n",
    "#   Interest_Rate -> Exchange_Rate;\n",
    "#   Interest_Rate -> Inflation_Rate;\n",
    "#   Inflation_Rate -> Exchange_Rate;\n",
    "#   Growth_Rate -> Exchange_Rate;\n",
    "# }\")\n",
    "# gg_dag(causal_diagram)"
   ],
   "id": "74aa0487-88ea-4162-a10c-774ed93d18d1"
  }
 ],
 "nbformat": 4,
 "nbformat_minor": 5,
 "metadata": {}
}
